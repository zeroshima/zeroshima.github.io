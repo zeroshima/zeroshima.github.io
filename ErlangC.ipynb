{
  "cells": [
    {
      "cell_type": "markdown",
      "metadata": {
        "id": "view-in-github",
        "colab_type": "text"
      },
      "source": [
        "<a href=\"https://colab.research.google.com/github/zeroshima/zeroshima.github.io/blob/main/ErlangC.ipynb\" target=\"_parent\"><img src=\"https://colab.research.google.com/assets/colab-badge.svg\" alt=\"Open In Colab\"/></a>"
      ]
    },
    {
      "cell_type": "markdown",
      "source": [
        "# New section"
      ],
      "metadata": {
        "id": "pE2IxOIaCaZd"
      }
    },
    {
      "cell_type": "markdown",
      "source": [
        "# **Workforce planning optimization using Python and ErlangC**\n",
        "Learn how to find the optimal number of positions needed to manage incoming traffic"
      ],
      "metadata": {
        "id": "AOKuuCKvDUIG"
      }
    },
    {
      "cell_type": "markdown",
      "source": [
        "Finding the number of positions to use in a queue system has been a study case for a long time now; it has applications in several fields and industries, for example, finding the optimal number of call centers agents, deciding the number of bankers in a support station, network traffic analysis and so on.\n",
        "\n",
        "There are several methods to analyze this problem; in this article, we will look at how to solve it using Erlang C with Python's Pyworkforce package."
      ],
      "metadata": {
        "id": "z07pfroBDhQh"
      }
    },
    {
      "cell_type": "markdown",
      "source": [
        "# 1. Queue System\n",
        "In the most fundamental Erlang C method, we represent the system as a queue with the following assumptions:\n",
        "\n",
        "There is incoming traffic with a constant rate; the arrivals follow a Poisson process\n",
        "There is a fixed capacity in the system; usually, only one transaction gets handled by a resource at the time\n",
        "There is a fixed number of available positions in a time interval\n",
        "When all the positions have a total capacity, there is an infinite queue length where the requests wait for a position to be free.\n",
        "An exponential distribution describes the holding times in the queue\n",
        "There is no dropout from the queue.\n",
        "A queue system with these characteristics may look like this:"
      ],
      "metadata": {
        "id": "-WPzPeSNDsHA"
      }
    },
    {
      "cell_type": "markdown",
      "source": [
        "![ErlanCQueueDiagram.webp](data:image/webp;base64,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)"
      ],
      "metadata": {
        "id": "CWl_SrMLDyVq"
      }
    },
    {
      "cell_type": "markdown",
      "source": [
        "In this representation, we can see several measures that will help us to describe the system; here there are their definitions and how we are going to call them from now on:\n",
        "\n",
        "* **Transactions**: Number of incoming requests\n",
        "* **Resource**: The element that handles a transaction\n",
        "* **Arrival rate**: The number of incoming transactions in a time interval\n",
        "* **Average speed of answer (ASA)**: Average time that a transaction waits in the queue to be attended by a resource\n",
        "* **Average handle time (AHT)**: Average time that takes to a single resource to attend a transaction\n",
        "\n",
        "\n",
        "\n",
        "Other variables are in the diagram, but that is important for the model, those are:\n",
        "\n",
        "* **Shrinkage:** Expected percentage of time that a server is not available, for example, due to breaks, scheduled training, etc.\n",
        "* **Occupancy:** Percentage of time that a resource is handling a transaction\n",
        "* **Service level**: Percentage of transactions that arrives at a resource before a target ASA\n",
        "\n",
        "The way as Erlang C find the number of resources in this system is by finding the probability that a transaction waits in queue, opposed to immediately being attended, it takes a target ASA and service level and uses the others variables as the system parameters, if you want to know more about the details of Erlang formulation, you can see others resources at the end of the article."
      ],
      "metadata": {
        "id": "n3tS5dWMEZHD"
      }
    },
    {
      "cell_type": "markdown",
      "source": [
        "# **2. Python Example**\n",
        "As an example, we will find the number of agents needed in a call center to handle incoming traffic of calls.\n",
        "\n",
        "Under the given convention, the resources would be the agent's stations, and the transactions would be the calls under this scenario.\n",
        "\n",
        "Let's assume that in a time interval of 30 minutes, there is an average of 100 incoming calls, the AHT is 3 minutes, and the expected shrinkage is 30%.\n",
        "\n",
        "As the call center administrators, we want the average time that a transaction waits in the queue to be 20 seconds and achieve a service level of 80%. We also want to ensure that the maximum occupancy of the agents is not greater than 85%.\n",
        "\n",
        "To solve this problem, we will use Pyworkforce, a python package for workforce management, schedule, and optimization problems, so let's install it. Using a virtual env is advised."
      ],
      "metadata": {
        "id": "IDiSLqzEFKxL"
      }
    },
    {
      "cell_type": "code",
      "source": [
        "!pip install pyworkforce\n",
        "\n"
      ],
      "metadata": {
        "id": "ZdOhrbWCCceI",
        "outputId": "5fa04b3c-2187-41fa-99ae-2f27c98f7845",
        "colab": {
          "base_uri": "https://localhost:8080/"
        }
      },
      "execution_count": 5,
      "outputs": [
        {
          "output_type": "stream",
          "name": "stdout",
          "text": [
            "Collecting pyworkforce\n",
            "  Downloading pyworkforce-0.5.1-py3-none-any.whl (22 kB)\n",
            "Requirement already satisfied: numpy>=1.23.0 in /usr/local/lib/python3.10/dist-packages (from pyworkforce) (1.23.5)\n",
            "Collecting ortools>=9.2.9972 (from pyworkforce)\n",
            "  Downloading ortools-9.7.2996-cp310-cp310-manylinux_2_17_x86_64.manylinux2014_x86_64.whl (21.1 MB)\n",
            "\u001b[2K     \u001b[90m━━━━━━━━━━━━━━━━━━━━━━━━━━━━━━━━━━━━━━━━\u001b[0m \u001b[32m21.1/21.1 MB\u001b[0m \u001b[31m50.5 MB/s\u001b[0m eta \u001b[36m0:00:00\u001b[0m\n",
            "\u001b[?25hRequirement already satisfied: pandas>=1.3.5 in /usr/local/lib/python3.10/dist-packages (from pyworkforce) (1.5.3)\n",
            "Requirement already satisfied: joblib>0.17 in /usr/local/lib/python3.10/dist-packages (from pyworkforce) (1.3.2)\n",
            "Requirement already satisfied: absl-py>=0.13 in /usr/local/lib/python3.10/dist-packages (from ortools>=9.2.9972->pyworkforce) (1.4.0)\n",
            "Collecting protobuf>=4.23.3 (from ortools>=9.2.9972->pyworkforce)\n",
            "  Downloading protobuf-4.24.4-cp37-abi3-manylinux2014_x86_64.whl (311 kB)\n",
            "\u001b[2K     \u001b[90m━━━━━━━━━━━━━━━━━━━━━━━━━━━━━━━━━━━━━━\u001b[0m \u001b[32m311.6/311.6 kB\u001b[0m \u001b[31m28.6 MB/s\u001b[0m eta \u001b[36m0:00:00\u001b[0m\n",
            "\u001b[?25hRequirement already satisfied: python-dateutil>=2.8.1 in /usr/local/lib/python3.10/dist-packages (from pandas>=1.3.5->pyworkforce) (2.8.2)\n",
            "Requirement already satisfied: pytz>=2020.1 in /usr/local/lib/python3.10/dist-packages (from pandas>=1.3.5->pyworkforce) (2023.3.post1)\n",
            "Requirement already satisfied: six>=1.5 in /usr/local/lib/python3.10/dist-packages (from python-dateutil>=2.8.1->pandas>=1.3.5->pyworkforce) (1.16.0)\n",
            "Installing collected packages: protobuf, ortools, pyworkforce\n",
            "  Attempting uninstall: protobuf\n",
            "    Found existing installation: protobuf 3.20.3\n",
            "    Uninstalling protobuf-3.20.3:\n",
            "      Successfully uninstalled protobuf-3.20.3\n",
            "\u001b[31mERROR: pip's dependency resolver does not currently take into account all the packages that are installed. This behaviour is the source of the following dependency conflicts.\n",
            "tensorflow-metadata 1.14.0 requires protobuf<4.21,>=3.20.3, but you have protobuf 4.24.4 which is incompatible.\u001b[0m\u001b[31m\n",
            "\u001b[0mSuccessfully installed ortools-9.7.2996 protobuf-4.24.4 pyworkforce-0.5.1\n"
          ]
        }
      ]
    },
    {
      "cell_type": "markdown",
      "source": [
        "The use of this package is very straightforward; we import ErlangC and initialize the class with the given parameters, then we use the method \"required_positions\" to find the minimum number of resources to handle the transactions. Take into account that the class expects all the time variables to be in minutes:"
      ],
      "metadata": {
        "id": "C02Rii0IFYOs"
      }
    },
    {
      "cell_type": "code",
      "source": [
        "from pyworkforce.queuing import ErlangC\n",
        "\n",
        "erlang = ErlangC(transactions=100, asa=20/60, aht=3, interval=30, shrinkage=0.3)\n",
        "\n",
        "requirements = erlang.required_positions(service_level=0.8, max_occupancy=0.85)\n",
        "print(requirements)"
      ],
      "metadata": {
        "id": "0Kh8SF9PFlIQ",
        "outputId": "edc4641d-6f0d-4d51-e923-f866be301530",
        "colab": {
          "base_uri": "https://localhost:8080/"
        }
      },
      "execution_count": 6,
      "outputs": [
        {
          "output_type": "stream",
          "name": "stdout",
          "text": [
            "{'raw_positions': 14, 'positions': 20, 'service_level': 0.8883500191794669, 'occupancy': 0.7142857142857143, 'waiting_probability': 0.1741319335950498}\n"
          ]
        }
      ]
    },
    {
      "cell_type": "markdown",
      "source": [
        "What this dictionary gives us is:\n",
        "\n",
        "**raw_positions**: Number of positions found assuming shrinkage = 0\n",
        "\n",
        "**positions**: Number of positions found taking the shrinkage provided by the user\n",
        "\n",
        "**service_level**: The expected percentage of transactions that don't wait in the queue longer than the target ASA\n",
        "\n",
        "**occupancy**: The expected occupancy that the system is going to have\n",
        "\n",
        "**waiting_probability**: The probability that a transaction waits in queue\n",
        "\n",
        "**Note**: The example modeled the system in a time interval of 30 minutes. The Erlan C assumptions may apply; if you want to extend the time interval, you may use the Erlang C several times with the parameters of each interval."
      ],
      "metadata": {
        "id": "qO9aPN88GGJl"
      }
    },
    {
      "cell_type": "markdown",
      "source": [
        "# **3. Running multiples Erlang C**\n",
        "If you want to try different parameters simultaneously, pyworkforce comes with a MultiErlangC class, which allows you to define a set of parameters to iterate over.\n",
        "\n",
        "First, create a grid of parameters; it must be a dict, and each parameters options must be in an iterable, as a list.\n",
        "\n",
        "Then MultiErlangC is going to use the ErlangC method with all possible combinations of the parameters provided.\n",
        "\n",
        "For example, if the grid has three options of transactions values and two shrinkage options, there will be six different models.\n",
        "\n",
        "If you have a vast grid, you can also use the parameter \"n_jobs\" to control the concurrently running jobs, \"-1\" means using all the available CPUs in the computer.\n",
        "\n",
        "For this example, lets only try three different options of service levels:"
      ],
      "metadata": {
        "id": "E0CAuOHYGUsD"
      }
    },
    {
      "cell_type": "code",
      "source": [
        "from pyworkforce.queuing import MultiErlangC\n",
        "\n",
        "param_grid = {\"transactions\": [100], \"interval\": [30], \"aht\": [3,6], \"asa\": [20 / 60], \"shrinkage\": [0.3]}\n",
        "multi_erlang = MultiErlangC(param_grid=param_grid, n_jobs=-1)\n",
        "\n",
        "required_positions_scenarios = {\"service_level\": [0.75, 0.85, 0.9], \"max_occupancy\": [0.8]}\n",
        "\n",
        "positions_requirements = multi_erlang.required_positions(required_positions_scenarios)\n",
        "print(\"positions_requirements: \", positions_requirements)"
      ],
      "metadata": {
        "id": "XO3n2jkTHDCI",
        "outputId": "e11b3d09-97d0-46e4-c8a8-e9a75728c1ba",
        "colab": {
          "base_uri": "https://localhost:8080/"
        }
      },
      "execution_count": 28,
      "outputs": [
        {
          "output_type": "stream",
          "name": "stdout",
          "text": [
            "positions_requirements:  [{'raw_positions': 13, 'positions': 19, 'service_level': 0.7955947884177831, 'occupancy': 0.7692307692307693, 'waiting_probability': 0.285270453036493}, {'raw_positions': 14, 'positions': 20, 'service_level': 0.8883500191794669, 'occupancy': 0.7142857142857143, 'waiting_probability': 0.1741319335950498}, {'raw_positions': 15, 'positions': 22, 'service_level': 0.9414528428690223, 'occupancy': 0.6666666666666666, 'waiting_probability': 0.10204236700798798}, {'raw_positions': 25, 'positions': 36, 'service_level': 0.8416119006021436, 'occupancy': 0.8, 'waiting_probability': 0.20910282659883667}, {'raw_positions': 26, 'positions': 38, 'service_level': 0.8972494613323054, 'occupancy': 0.7692307692307693, 'waiting_probability': 0.14339992844892324}, {'raw_positions': 27, 'positions': 39, 'service_level': 0.9348874500068123, 'occupancy': 0.7407407407407407, 'waiting_probability': 0.09606318958311354}]\n"
          ]
        }
      ]
    },
    {
      "cell_type": "markdown",
      "source": [
        "If you like the output in a tabular format, you can use pandas, for example:"
      ],
      "metadata": {
        "id": "Hqr_fKtKKa-x"
      }
    },
    {
      "cell_type": "code",
      "source": [
        "df = pd.DataFrame(positions_requirements)\n",
        "print(df)"
      ],
      "metadata": {
        "id": "pN-GopaIKdXF",
        "outputId": "eac4d0a9-a1b2-4d58-9e03-040394f68d88",
        "colab": {
          "base_uri": "https://localhost:8080/"
        }
      },
      "execution_count": 29,
      "outputs": [
        {
          "output_type": "stream",
          "name": "stdout",
          "text": [
            "   raw_positions  positions  service_level  occupancy  waiting_probability\n",
            "0             13         19       0.795595   0.769231             0.285270\n",
            "1             14         20       0.888350   0.714286             0.174132\n",
            "2             15         22       0.941453   0.666667             0.102042\n",
            "3             25         36       0.841612   0.800000             0.209103\n",
            "4             26         38       0.897249   0.769231             0.143400\n",
            "5             27         39       0.934887   0.740741             0.096063\n"
          ]
        }
      ]
    }
  ],
  "metadata": {
    "colab": {
      "name": "Welcome to Colaboratory",
      "provenance": [],
      "include_colab_link": true
    },
    "kernelspec": {
      "display_name": "Python 3",
      "name": "python3"
    }
  },
  "nbformat": 4,
  "nbformat_minor": 0
}