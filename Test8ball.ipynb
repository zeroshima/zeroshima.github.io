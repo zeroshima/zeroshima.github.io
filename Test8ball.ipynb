{
  "cells": [
    {
      "cell_type": "markdown",
      "source": [
        "Data test - ErlangC workforce calculation"
      ],
      "metadata": {
        "id": "WYH7fF7VUzKO"
      }
    },
    {
      "cell_type": "code",
      "source": [
        "import random\n",
        "def magic8ball():\n",
        "    response = input(\"(Press 'any key' for answer and 'quit' to exit)\\nWhat is your question?\\n\")\n",
        "    Eightball_answers = [\n",
        "        \"It is certain\",\n",
        "        \"Outlook good\",\n",
        "        \"You may rely on it\",\n",
        "        \"Ask again later\",\n",
        "        \"Concentrate and ask again\",\n",
        "        \"Reply hazy, try again\",\n",
        "        \"My reply is no\",\n",
        "        \"My sources say no\"\n",
        "        ]\n",
        "    \n",
        "    if response == \"quit\":\n",
        "        print(\"Have A Good Day!\")\n",
        "    else:\n",
        "        print(random.choice(Eightball_answers), \"\\n\")\n",
        "        magic8ball()\n",
        "magic8ball()"
      ],
      "metadata": {
        "id": "7gJNfmDpViGA",
        "outputId": "992e21cc-5fae-4a10-93a6-9f867d299105",
        "colab": {
          "base_uri": "https://localhost:8080/"
        }
      },
      "execution_count": 2,
      "outputs": [
        {
          "output_type": "stream",
          "name": "stdout",
          "text": [
            "(Press 'any key' for answer and 'quit' to exit)\n",
            "What is your question?\n",
            "Can I get Colab to work?\n",
            "Concentrate and ask again \n",
            "\n",
            "(Press 'any key' for answer and 'quit' to exit)\n",
            "What is your question?\n",
            "quit\n",
            "Have A Good Day!\n"
          ]
        }
      ]
    }
  ],
  "metadata": {
    "colab": {
      "name": "Welcome to Colaboratory",
      "toc_visible": true,
      "provenance": []
    },
    "kernelspec": {
      "display_name": "Python 3",
      "name": "python3"
    }
  },
  "nbformat": 4,
  "nbformat_minor": 0
}